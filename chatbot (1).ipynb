{
  "cells": [
    {
      "cell_type": "code",
      "execution_count": null,
      "metadata": {
        "colab": {
          "base_uri": "https://localhost:8080/"
        },
        "id": "ATTujYLXklKe",
        "outputId": "fa5a7c1b-3200-4d50-8911-e31dc8625498"
      },
      "outputs": [
        {
          "output_type": "stream",
          "name": "stdout",
          "text": [
            ">my name is samiksha\n",
            "Hello samiksha, how are you today?\n",
            ">what is your name?\n",
            "My name is Chatbot. How can I assist you?\n",
            ">what can you do?\n",
            "I can answer your questions.\n",
            ">bye\n",
            "Goodbye!\n"
          ]
        }
      ],
      "source": [
        "import nltk\n",
        "from nltk.chat.util import Chat, reflections\n",
        "\n",
        "pairs = [\n",
        "    [\n",
        "        r\"my name is (.*)\",\n",
        "        [\"Hello %1, how are you today?\"]\n",
        "    ],\n",
        "    [\n",
        "        r\"hi|hello|hey\",\n",
        "        [\"Hello!\", \"Hi there!\"]\n",
        "    ],\n",
        "    [\n",
        "        r\"what is your name?\",\n",
        "        [\"My name is Chatbot. How can I assist you?\"]\n",
        "    ],\n",
        "    [\n",
        "        r\"what can you do?\",\n",
        "        [\"I can answer your questions.\"]\n",
        "    ],\n",
        "    [\n",
        "        r\"bye|goodbye\",\n",
        "        [\"Goodbye!\", \"See you later!\"]\n",
        "    ],\n",
        "]\n",
        "\n",
        "chatbot = Chat(pairs, reflections)\n",
        "chatbot.converse()\n"
      ]
    },
    {
      "cell_type": "code",
      "execution_count": null,
      "metadata": {
        "id": "rFZuEjqIlGLq"
      },
      "outputs": [],
      "source": []
    }
  ],
  "metadata": {
    "colab": {
      "provenance": []
    },
    "kernelspec": {
      "display_name": "Python 3",
      "name": "python3"
    },
    "language_info": {
      "name": "python"
    }
  },
  "nbformat": 4,
  "nbformat_minor": 0
}